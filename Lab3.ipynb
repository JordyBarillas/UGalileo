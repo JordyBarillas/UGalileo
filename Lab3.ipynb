{
 "cells": [
  {
   "cell_type": "markdown",
   "id": "54ee4096-cca6-4b09-bf2a-5a185004254c",
   "metadata": {},
   "source": [
    "## Laboratorio 3"
   ]
  },
  {
   "cell_type": "markdown",
   "id": "5f955780-1ab6-4670-897e-f4bbf227e941",
   "metadata": {},
   "source": [
    "### Parte 1. Numpy"
   ]
  },
  {
   "cell_type": "code",
   "execution_count": 3,
   "id": "eb7758d0-1dc7-48c2-946e-30b97f254a43",
   "metadata": {
    "tags": []
   },
   "outputs": [
    {
     "name": "stdout",
     "output_type": "stream",
     "text": [
      "El tamaño en bytes del array es: 1000\n"
     ]
    }
   ],
   "source": [
    "import numpy as np\n",
    "import pandas as pd\n",
    "import matplotlib.pyplot as plt\n",
    "import seaborn as sns\n",
    "\n",
    "#¿Cuál es el tamaño en bytes de un array de 1000\n",
    "\n",
    "array_booleano = np.zeros(1000, dtype=bool)\n",
    "array_booleano[1::2] = True\n",
    "tamano_bytes = array_booleano.nbytes\n",
    "\n",
    "print(f\"El tamaño en bytes del array es: {tamano_bytes}\")"
   ]
  },
  {
   "cell_type": "code",
   "execution_count": 18,
   "id": "6a1c1fe3-0616-4203-8bcd-7fb1829caad0",
   "metadata": {
    "tags": []
   },
   "outputs": [
    {
     "name": "stdout",
     "output_type": "stream",
     "text": [
      "Los últimos 10 elementos son: [20 18 16 14 12 10  8  6  4  2]\n"
     ]
    }
   ],
   "source": [
    "#Cree un array cuyos elementos sean los enteros pares en [1,100] y en orden decreciente. \n",
    "#Muestre los 10 últimos por pantalla\n",
    "\n",
    "array_pares = np.arange(100, 0, -2)\n",
    "print(f\"Los últimos 10 elementos son: {array_pares[-10:]}\")"
   ]
  },
  {
   "cell_type": "code",
   "execution_count": 53,
   "id": "07e1463d-a815-47f8-a957-97ca6c7d5bd3",
   "metadata": {
    "tags": []
   },
   "outputs": [
    {
     "name": "stdout",
     "output_type": "stream",
     "text": [
      "[[2 4 5 6]\n",
      " [0 3 7 4]\n",
      " [8 8 5 2]\n",
      " [1 5 6 1]]\n",
      "[0 3 7 4]\n",
      "Valores: 2 5 8 5\n"
     ]
    }
   ],
   "source": [
    "#Dado el array (2456 0374 8852 1561) \n",
    "\n",
    "array3 = np.array([[2,4,5,6],[0,3,7,4],[8,8,5,2],[1,5,6,1]])\n",
    "print(array3)\n",
    "#Seleccione con una instrucción el subarray de elementos:\n",
    "# 0374\n",
    "\n",
    "print(array3[1])\n",
    "\n",
    "#Después, seleccione el subarray de elementos\n",
    "#2, 5, 8, 5\n",
    "\n",
    "print(\"Valores:\", array3[0, 0], array3[0, 2], array3[2, 0], array3[3, 1])"
   ]
  },
  {
   "cell_type": "code",
   "execution_count": 60,
   "id": "2f394d2c-300b-4705-8e91-6c765d72c100",
   "metadata": {
    "tags": []
   },
   "outputs": [
    {
     "name": "stdout",
     "output_type": "stream",
     "text": [
      "[1 4 2 7] [1 3 2 9]\n",
      "La media aritmética de la diferencia es: -0.25\n"
     ]
    }
   ],
   "source": [
    "#Dados los arrays a = [1, 4, 2, 7] y b = [1, 3, 2, 9], obtenga la media aritmética de la diferencia (a-b).\n",
    "\n",
    "a = np.array([1, 4, 2, 7])\n",
    "b = np.array([1, 3, 2, 9])\n",
    "print(a, b)\n",
    "\n",
    "diferencia = a - b\n",
    "media = np.mean(diferencia)\n",
    "print(f\"La media aritmética de la diferencia es: {media}\")"
   ]
  },
  {
   "cell_type": "code",
   "execution_count": 19,
   "id": "363ecdc1-61e6-422f-a4a0-c5e437827b33",
   "metadata": {},
   "outputs": [
    {
     "name": "stdout",
     "output_type": "stream",
     "text": [
      "[[ 1.33  4.5 ]\n",
      " [30.   10.7 ]\n",
      " [70.2   0.5 ]\n",
      " [37.1  -3.6 ]]\n"
     ]
    },
    {
     "data": {
      "text/plain": [
       "(4, 2)"
      ]
     },
     "execution_count": 19,
     "metadata": {},
     "output_type": "execute_result"
    }
   ],
   "source": [
    "#Tengo valores de cordenadas (x, y) en las columnas del array\n",
    "#1.33 4.5\n",
    "#30.0 10.7\n",
    "#70.2 0.5\n",
    "# Agregue a este array las coordenadas (37.1, -3.6). Muestre en pantalla las dimensiones del nuevo array.\n",
    "\n",
    "array4 = np.array([[1.33, 4.5],[30.0, 10.7],[70.2, 0.5]])\n",
    "\n",
    "nuevas_coo = np.array([[37.1, -3.6]])\n",
    "nuevo_array = np.concatenate((array4, nuevas_coo), axis=0)\n",
    "\n",
    "print(nuevo_array)\n",
    "nuevo_array.shape"
   ]
  },
  {
   "cell_type": "code",
   "execution_count": 23,
   "id": "b3c06d53-c5d1-4aa5-b20d-bd4c9921690c",
   "metadata": {
    "tags": []
   },
   "outputs": [
    {
     "name": "stdout",
     "output_type": "stream",
     "text": [
      "[[ 1.33 30.   70.2  37.1  10.8   3.  ]\n",
      " [ 4.5  10.7   0.5  -3.6  35.8  12.  ]]\n"
     ]
    }
   ],
   "source": [
    "#Copie el array del ejercicio anterior. \n",
    "#Traspóngalo (.Agregue ahora dos nuevos pares de coordenadas: (10.8, 3.0) y (35.8, 12.0)\n",
    "\n",
    "array_transpuesto = nuevo_array.T\n",
    "nuevas_coo2 = np.array([[10.8, 3.0], [35.8, 12.0]])\n",
    "array_transpuesto = np.concatenate((array_transpuesto, nuevas_coo2), axis=1)\n",
    "\n",
    "print(array_transpuesto)\n"
   ]
  },
  {
   "cell_type": "markdown",
   "id": "c82a57b7-2c8e-4465-8683-b13b47077302",
   "metadata": {},
   "source": [
    "### Parte 2. Exploración y minería de datos"
   ]
  },
  {
   "cell_type": "code",
   "execution_count": 212,
   "id": "6ce10a0c-3103-4f1e-8d52-e5158e13dc11",
   "metadata": {
    "tags": []
   },
   "outputs": [
    {
     "data": {
      "text/html": [
       "<div>\n",
       "<style scoped>\n",
       "    .dataframe tbody tr th:only-of-type {\n",
       "        vertical-align: middle;\n",
       "    }\n",
       "\n",
       "    .dataframe tbody tr th {\n",
       "        vertical-align: top;\n",
       "    }\n",
       "\n",
       "    .dataframe thead th {\n",
       "        text-align: right;\n",
       "    }\n",
       "</style>\n",
       "<table border=\"1\" class=\"dataframe\">\n",
       "  <thead>\n",
       "    <tr style=\"text-align: right;\">\n",
       "      <th></th>\n",
       "      <th>FID</th>\n",
       "      <th>OBJECTID</th>\n",
       "      <th>Texto</th>\n",
       "      <th>Poblacion</th>\n",
       "      <th>CodMun</th>\n",
       "      <th>Municipio</th>\n",
       "      <th>CodProvin</th>\n",
       "      <th>Provincia</th>\n",
       "      <th>X</th>\n",
       "      <th>Y</th>\n",
       "    </tr>\n",
       "  </thead>\n",
       "  <tbody>\n",
       "    <tr>\n",
       "      <th>0</th>\n",
       "      <td>0</td>\n",
       "      <td>1</td>\n",
       "      <td>Agüimes</td>\n",
       "      <td>29431.0</td>\n",
       "      <td>35002</td>\n",
       "      <td>Agüimes</td>\n",
       "      <td>35</td>\n",
       "      <td>Las Palmas</td>\n",
       "      <td>-15.446012</td>\n",
       "      <td>27.900542</td>\n",
       "    </tr>\n",
       "    <tr>\n",
       "      <th>1</th>\n",
       "      <td>1</td>\n",
       "      <td>2</td>\n",
       "      <td>Antigua</td>\n",
       "      <td>10458.0</td>\n",
       "      <td>35003</td>\n",
       "      <td>Antigua</td>\n",
       "      <td>35</td>\n",
       "      <td>Las Palmas</td>\n",
       "      <td>-14.013301</td>\n",
       "      <td>28.418966</td>\n",
       "    </tr>\n",
       "    <tr>\n",
       "      <th>2</th>\n",
       "      <td>2</td>\n",
       "      <td>3</td>\n",
       "      <td>Arrecife</td>\n",
       "      <td>58156.0</td>\n",
       "      <td>35004</td>\n",
       "      <td>Arrecife</td>\n",
       "      <td>35</td>\n",
       "      <td>Las Palmas</td>\n",
       "      <td>-13.551451</td>\n",
       "      <td>28.960649</td>\n",
       "    </tr>\n",
       "    <tr>\n",
       "      <th>3</th>\n",
       "      <td>3</td>\n",
       "      <td>4</td>\n",
       "      <td>Arucas</td>\n",
       "      <td>36745.0</td>\n",
       "      <td>35006</td>\n",
       "      <td>Arucas</td>\n",
       "      <td>35</td>\n",
       "      <td>Las Palmas</td>\n",
       "      <td>-15.521512</td>\n",
       "      <td>28.117496</td>\n",
       "    </tr>\n",
       "    <tr>\n",
       "      <th>4</th>\n",
       "      <td>4</td>\n",
       "      <td>5</td>\n",
       "      <td>Gáldar</td>\n",
       "      <td>24473.0</td>\n",
       "      <td>35009</td>\n",
       "      <td>Gáldar</td>\n",
       "      <td>35</td>\n",
       "      <td>Las Palmas</td>\n",
       "      <td>-15.654111</td>\n",
       "      <td>28.143873</td>\n",
       "    </tr>\n",
       "  </tbody>\n",
       "</table>\n",
       "</div>"
      ],
      "text/plain": [
       "   FID  OBJECTID     Texto  Poblacion  CodMun Municipio  CodProvin  \\\n",
       "0    0         1   Agüimes    29431.0   35002   Agüimes         35   \n",
       "1    1         2   Antigua    10458.0   35003   Antigua         35   \n",
       "2    2         3  Arrecife    58156.0   35004  Arrecife         35   \n",
       "3    3         4    Arucas    36745.0   35006    Arucas         35   \n",
       "4    4         5    Gáldar    24473.0   35009    Gáldar         35   \n",
       "\n",
       "    Provincia          X          Y  \n",
       "0  Las Palmas -15.446012  27.900542  \n",
       "1  Las Palmas -14.013301  28.418966  \n",
       "2  Las Palmas -13.551451  28.960649  \n",
       "3  Las Palmas -15.521512  28.117496  \n",
       "4  Las Palmas -15.654111  28.143873  "
      ]
     },
     "execution_count": 212,
     "metadata": {},
     "output_type": "execute_result"
    }
   ],
   "source": [
    "dataset = pd.read_csv(\"./NucleosPoblacion.csv\", delimiter=',') \n",
    "dataset.head()"
   ]
  },
  {
   "cell_type": "code",
   "execution_count": 104,
   "id": "63bbaacf-0585-4cb6-bde4-1ff6fa8ec6f9",
   "metadata": {
    "tags": []
   },
   "outputs": [
    {
     "data": {
      "text/plain": [
       "FID            int64\n",
       "OBJECTID       int64\n",
       "Texto         object\n",
       "Poblacion      int64\n",
       "CodMun         int64\n",
       "Municipio     object\n",
       "CodProvin      int64\n",
       "Provincia     object\n",
       "X            float64\n",
       "Y            float64\n",
       "dtype: object"
      ]
     },
     "execution_count": 104,
     "metadata": {},
     "output_type": "execute_result"
    }
   ],
   "source": [
    "dataset.dtypes"
   ]
  },
  {
   "cell_type": "code",
   "execution_count": 31,
   "id": "084dd8b6-ea03-4fad-bf73-322c2c032b0c",
   "metadata": {
    "tags": []
   },
   "outputs": [
    {
     "name": "stdout",
     "output_type": "stream",
     "text": [
      "Hay 62 municipios con mas de 100,000 habitantes\n"
     ]
    }
   ],
   "source": [
    "# ¿Cuántos Municipios tienen más de 100000 habitantes?.\n",
    " \n",
    "resultado1 = dataset[dataset['Poblacion'] > 100000]\n",
    "cantidad1 = len(resultado1['Municipio'].unique())\n",
    "print(f\"Hay {cantidad1} municipios con mas de 100,000 habitantes\")"
   ]
  },
  {
   "cell_type": "code",
   "execution_count": 70,
   "id": "2d2af65a-308e-47c5-bd36-058663850db3",
   "metadata": {
    "tags": []
   },
   "outputs": [
    {
     "data": {
      "image/png": "[encoded data removed]",
      "text/plain": [
       "<Figure size 640x480 with 1 Axes>"
      ]
     },
     "metadata": {},
     "output_type": "display_data"
    },
    {
     "name": "stdout",
     "output_type": "stream",
     "text": [
      "La ciudad Granada se encuentra en la posición 273\n"
     ]
    }
   ],
   "source": [
    "#Realice una gráfica de barras sobre la población de cada ciudad, ordenela de menor a mayor y responda:\n",
    "# a. ¿Cuál es la segunda ciudad más poblada?\n",
    "# b. ¿Qué posición ocupa Granada en el ranking de las ciudades más pobladas?\n",
    "\n",
    "data_ordenada = resultado1.sort_values(by='Poblacion')\n",
    "\n",
    "plt.bar(data_ordenada['Provincia'], data_ordenada['Poblacion'])\n",
    "plt.xticks(rotation=45, ha='right')\n",
    "plt.title(\"Poblacion por provincia\")\n",
    "plt.xlabel(\"Provincia\") \n",
    "plt.tight_layout()\n",
    "plt.show()\n",
    "\n",
    "# a. La segunda ciudad más poblada es Barcelona.\n",
    "\n",
    "#b. \n",
    "posicion_ciudad = data_ordenada[data_ordenada['Provincia'] == 'Granada'].index[0]\n",
    "print(f\"La ciudad Granada se encuentra en la posición {posicion_ciudad + 1}\")"
   ]
  },
  {
   "cell_type": "code",
   "execution_count": 76,
   "id": "0009f3f5-3e12-4f8f-aa77-a392d5cda99b",
   "metadata": {
    "tags": []
   },
   "outputs": [
    {
     "name": "stdout",
     "output_type": "stream",
     "text": [
      "Hay 11 municipios con mas de 5,000 habitantes en Navarra\n"
     ]
    }
   ],
   "source": [
    "# ¿Cuántos municipios de Navarra tienen más de 5000 habitantes?\n",
    "\n",
    "resultado2 = dataset[dataset['Provincia'] == 'Navarra']\n",
    "resultado3 = resultado2[resultado2['Poblacion'] > 5000]\n",
    "\n",
    "cantidad_navarra = len(resultado3['Municipio'].unique())\n",
    "print(f\"Hay {cantidad_navarra} municipios con mas de 5,000 habitantes en Navarra\")"
   ]
  },
  {
   "cell_type": "code",
   "execution_count": 81,
   "id": "440da48e-3ea5-406d-8ce7-2c5aaa483930",
   "metadata": {
    "tags": []
   },
   "outputs": [
    {
     "data": {
      "text/html": [
       "<div>\n",
       "<style scoped>\n",
       "    .dataframe tbody tr th:only-of-type {\n",
       "        vertical-align: middle;\n",
       "    }\n",
       "\n",
       "    .dataframe tbody tr th {\n",
       "        vertical-align: top;\n",
       "    }\n",
       "\n",
       "    .dataframe thead th {\n",
       "        text-align: right;\n",
       "    }\n",
       "</style>\n",
       "<table border=\"1\" class=\"dataframe\">\n",
       "  <thead>\n",
       "    <tr style=\"text-align: right;\">\n",
       "      <th></th>\n",
       "      <th>FID</th>\n",
       "      <th>OBJECTID</th>\n",
       "      <th>Texto</th>\n",
       "      <th>Poblacion</th>\n",
       "      <th>CodMun</th>\n",
       "      <th>Municipio</th>\n",
       "      <th>CodProvin</th>\n",
       "      <th>Provincia</th>\n",
       "      <th>X</th>\n",
       "      <th>Y</th>\n",
       "    </tr>\n",
       "  </thead>\n",
       "  <tbody>\n",
       "    <tr>\n",
       "      <th>104</th>\n",
       "      <td>104</td>\n",
       "      <td>105</td>\n",
       "      <td>Viveiro</td>\n",
       "      <td>16211.0</td>\n",
       "      <td>27066</td>\n",
       "      <td>Viveiro</td>\n",
       "      <td>27</td>\n",
       "      <td>Lugo</td>\n",
       "      <td>-7.588768</td>\n",
       "      <td>43.625578</td>\n",
       "    </tr>\n",
       "    <tr>\n",
       "      <th>447</th>\n",
       "      <td>447</td>\n",
       "      <td>448</td>\n",
       "      <td>Lluanco/Luanco</td>\n",
       "      <td>10788.0</td>\n",
       "      <td>33025</td>\n",
       "      <td>Gozón</td>\n",
       "      <td>33</td>\n",
       "      <td>Asturias</td>\n",
       "      <td>-5.792773</td>\n",
       "      <td>43.614030</td>\n",
       "    </tr>\n",
       "    <tr>\n",
       "      <th>443</th>\n",
       "      <td>443</td>\n",
       "      <td>444</td>\n",
       "      <td>Candás</td>\n",
       "      <td>11000.0</td>\n",
       "      <td>33014</td>\n",
       "      <td>Carreño</td>\n",
       "      <td>33</td>\n",
       "      <td>Asturias</td>\n",
       "      <td>-5.767181</td>\n",
       "      <td>43.590199</td>\n",
       "    </tr>\n",
       "    <tr>\n",
       "      <th>444</th>\n",
       "      <td>444</td>\n",
       "      <td>445</td>\n",
       "      <td>Piedrasblancas</td>\n",
       "      <td>22832.0</td>\n",
       "      <td>33016</td>\n",
       "      <td>Castrillón</td>\n",
       "      <td>33</td>\n",
       "      <td>Asturias</td>\n",
       "      <td>-5.973899</td>\n",
       "      <td>43.559984</td>\n",
       "    </tr>\n",
       "    <tr>\n",
       "      <th>442</th>\n",
       "      <td>442</td>\n",
       "      <td>443</td>\n",
       "      <td>Avilés</td>\n",
       "      <td>84202.0</td>\n",
       "      <td>33004</td>\n",
       "      <td>Avilés</td>\n",
       "      <td>33</td>\n",
       "      <td>Asturias</td>\n",
       "      <td>-5.924790</td>\n",
       "      <td>43.558577</td>\n",
       "    </tr>\n",
       "  </tbody>\n",
       "</table>\n",
       "</div>"
      ],
      "text/plain": [
       "     FID  OBJECTID           Texto  Poblacion  CodMun   Municipio  CodProvin  \\\n",
       "104  104       105         Viveiro    16211.0   27066     Viveiro         27   \n",
       "447  447       448  Lluanco/Luanco    10788.0   33025       Gozón         33   \n",
       "443  443       444          Candás    11000.0   33014     Carreño         33   \n",
       "444  444       445  Piedrasblancas    22832.0   33016  Castrillón         33   \n",
       "442  442       443          Avilés    84202.0   33004      Avilés         33   \n",
       "\n",
       "    Provincia         X          Y  \n",
       "104      Lugo -7.588768  43.625578  \n",
       "447  Asturias -5.792773  43.614030  \n",
       "443  Asturias -5.767181  43.590199  \n",
       "444  Asturias -5.973899  43.559984  \n",
       "442  Asturias -5.924790  43.558577  "
      ]
     },
     "execution_count": 81,
     "metadata": {},
     "output_type": "execute_result"
    }
   ],
   "source": [
    "# ¿Cuál es el municipio situado más al Norte? (Usar el valor de la coordenada \"Y\" que representa la latitud en grados). \n",
    "# Proporcione también la provincia a la que pertenece y su población.\n",
    "\n",
    "data_ordenada_y = dataset.sort_values(by='Y', ascending=False)\n",
    "data_ordenada_y.head()\n",
    "\n",
    "#El municipio situado mas al norte es Viveiro, dentro de la Provincia de Lugo con poblacion de 16,211 habitantes."
   ]
  },
  {
   "cell_type": "code",
   "execution_count": 94,
   "id": "678284e0-ee8d-4047-8c1f-b777948d0a46",
   "metadata": {
    "tags": []
   },
   "outputs": [
    {
     "name": "stdout",
     "output_type": "stream",
     "text": [
      "La media de población de los municipios de la provincia de Granada es: 30217.85\n",
      "La mediana de la población de los municipios de la provincia de Granada es: 17526.0\n",
      "La desviación estándar de la población de los municipios de la provincia de Granada es: 50355.49171459277\n",
      "El valor maximo de la población de los municipios de la provincia de Granada es: 239154.0\n",
      "El valor minimo de la población de los municipios de la provincia de Granada es: 10386.0\n"
     ]
    }
   ],
   "source": [
    "# Obtenga la media, mediana, desviación estándar, valor máximo y valor mínimo de la población de los municipios \n",
    "# de la provincia de Granada.\n",
    "\n",
    "resultado_granada = dataset[dataset['Provincia'] == 'Granada']\n",
    "\n",
    "media_g = resultado_granada['Poblacion'].mean()\n",
    "print(f\"La media de población de los municipios de la provincia de Granada es: {media_g}\")\n",
    "\n",
    "mediana_g = resultado_granada['Poblacion'].median()\n",
    "print(f\"La mediana de la población de los municipios de la provincia de Granada es: {mediana_g}\")\n",
    "\n",
    "desv_est_g = resultado_granada['Poblacion'].std()\n",
    "print(f\"La desviación estándar de la población de los municipios de la provincia de Granada es: {desv_est_g}\")\n",
    "\n",
    "maximo_g = resultado_granada['Poblacion'].max()\n",
    "print(f\"El valor maximo de la población de los municipios de la provincia de Granada es: {maximo_g}\")\n",
    "\n",
    "minimo_g = resultado_granada['Poblacion'].min()\n",
    "print(f\"El valor minimo de la población de los municipios de la provincia de Granada es: {minimo_g}\")"
   ]
  },
  {
   "cell_type": "code",
   "execution_count": 105,
   "id": "10305a98-92a3-44cf-94ff-937a5affbdf3",
   "metadata": {
    "tags": []
   },
   "outputs": [
    {
     "data": {
      "image/png": "[encoded data removed]",
      "text/plain": [
       "<Figure size 700x300 with 1 Axes>"
      ]
     },
     "metadata": {},
     "output_type": "display_data"
    }
   ],
   "source": [
    "#Realice un histograma con la población de los Municipios para cada una de las provincias.\n",
    "\n",
    "plt.figure(figsize=(7,3))\n",
    "dataset['Poblacion'].hist(bins=30, density=True)\n",
    "plt.title(\"Poblacion - Density\")\n",
    "plt.xlabel(\"Poblacion\")\n",
    "plt.ylabel(\"Count\")\n",
    "plt.show()"
   ]
  },
  {
   "cell_type": "code",
   "execution_count": 145,
   "id": "2175daf2-7e6a-4ef0-9d45-c10f95a50611",
   "metadata": {
    "tags": []
   },
   "outputs": [
    {
     "name": "stdout",
     "output_type": "stream",
     "text": [
      "50\n"
     ]
    }
   ],
   "source": [
    "# Seleccione al azar cincuenta municipios diferentes de entre los diponibles en el archivo. Asegúrese de que no se repitan. \n",
    "# ¿Luego calcule el promedio de la población y la desviación estándar de esto 50 municipios?\n",
    "\n",
    "data_muestra = dataset.loc[np.random.randint(0, len(dataset['Municipio'].unique()), 50), ['Poblacion', 'Municipio']]\n",
    "cantidad_muestra = len(data_muestra['Municipio'].unique())\n",
    "print(cantidad_muestra)\n"
   ]
  },
  {
   "cell_type": "code",
   "execution_count": 149,
   "id": "0b74ba6e-999a-43c4-806c-3391e271b6b3",
   "metadata": {
    "tags": []
   },
   "outputs": [
    {
     "name": "stdout",
     "output_type": "stream",
     "text": [
      "La media de población de los municipios seleccionados al azar es: 32480.74\n",
      "La desviación estándar de la población de los municipios seleccionados al azar es: 78243.52108740703\n"
     ]
    }
   ],
   "source": [
    "media_m = data_muestra['Poblacion'].mean()\n",
    "print(f\"La media de población de los municipios seleccionados al azar es: {media_m}\")\n",
    "\n",
    "desv_est_m = data_muestra['Poblacion'].std()\n",
    "print(f\"La desviación estándar de la población de los municipios seleccionados al azar es: {desv_est_m}\")"
   ]
  },
  {
   "cell_type": "code",
   "execution_count": null,
   "id": "9170983a-6459-4fec-8dd6-743eb5eda3ee",
   "metadata": {
    "tags": []
   },
   "outputs": [],
   "source": [
    "# Determine los nombres de los Municipios más cercano y más lejano a Madrid. Para ello debe calcular la distancia \n",
    "# en todos ellos y Madrid. No considere a Madrid en el análisis ya que la distancia sería cero.\n",
    "\n",
    "# Y = latitud y X = longitud"
   ]
  },
  {
   "cell_type": "code",
   "execution_count": 158,
   "id": "a1070571-6c5d-442d-9515-1a86bc3ba424",
   "metadata": {
    "tags": []
   },
   "outputs": [
    {
     "name": "stdout",
     "output_type": "stream",
     "text": [
      "Collecting geopy\n",
      "  Obtaining dependency information for geopy from https://files.pythonhosted.org/packages/e5/15/cf2a69ade4b194aa524ac75112d5caac37414b20a3a03e6865dfe0bd1539/geopy-2.4.1-py3-none-any.whl.metadata\n",
      "  Downloading geopy-2.4.1-py3-none-any.whl.metadata (6.8 kB)\n",
      "Collecting geographiclib<3,>=1.52 (from geopy)\n",
      "  Obtaining dependency information for geographiclib<3,>=1.52 from https://files.pythonhosted.org/packages/9f/5a/a26132406f1f40cf51ea349a5f11b0a46cec02a2031ff82e391c2537247a/geographiclib-2.0-py3-none-any.whl.metadata\n",
      "  Downloading geographiclib-2.0-py3-none-any.whl.metadata (1.4 kB)\n",
      "Downloading geopy-2.4.1-py3-none-any.whl (125 kB)\n",
      "\u001b[2K   \u001b[90m━━━━━━━━━━━━━━━━━━━━━━━━━━━━━━━━━━━━━━━━\u001b[0m \u001b[32m125.4/125.4 kB\u001b[0m \u001b[31m1.3 MB/s\u001b[0m eta \u001b[36m0:00:00\u001b[0ma \u001b[36m0:00:01\u001b[0m\n",
      "\u001b[?25hDownloading geographiclib-2.0-py3-none-any.whl (40 kB)\n",
      "\u001b[2K   \u001b[90m━━━━━━━━━━━━━━━━━━━━━━━━━━━━━━━━━━━━━━━━\u001b[0m \u001b[32m40.3/40.3 kB\u001b[0m \u001b[31m1.9 MB/s\u001b[0m eta \u001b[36m0:00:00\u001b[0m\n",
      "\u001b[?25hInstalling collected packages: geographiclib, geopy\n",
      "Successfully installed geographiclib-2.0 geopy-2.4.1\n"
     ]
    }
   ],
   "source": [
    "!pip install geopy"
   ]
  },
  {
   "cell_type": "code",
   "execution_count": 237,
   "id": "a84a918b-e7cf-43b0-adc5-1ab601b53210",
   "metadata": {
    "tags": []
   },
   "outputs": [],
   "source": [
    "from geopy.distance import geodesic\n",
    "\n",
    "latitud_madrid = -3.703797076\n",
    "longitud_madrid = 40.4166300011"
   ]
  },
  {
   "cell_type": "code",
   "execution_count": 240,
   "id": "f2de9b68-9299-4762-afdb-97eb8a181313",
   "metadata": {
    "tags": []
   },
   "outputs": [
    {
     "data": {
      "text/html": [
       "<div>\n",
       "<style scoped>\n",
       "    .dataframe tbody tr th:only-of-type {\n",
       "        vertical-align: middle;\n",
       "    }\n",
       "\n",
       "    .dataframe tbody tr th {\n",
       "        vertical-align: top;\n",
       "    }\n",
       "\n",
       "    .dataframe thead th {\n",
       "        text-align: right;\n",
       "    }\n",
       "</style>\n",
       "<table border=\"1\" class=\"dataframe\">\n",
       "  <thead>\n",
       "    <tr style=\"text-align: right;\">\n",
       "      <th></th>\n",
       "      <th>FID</th>\n",
       "      <th>OBJECTID</th>\n",
       "      <th>Texto</th>\n",
       "      <th>Poblacion</th>\n",
       "      <th>CodMun</th>\n",
       "      <th>Municipio</th>\n",
       "      <th>CodProvin</th>\n",
       "      <th>Provincia</th>\n",
       "      <th>X</th>\n",
       "      <th>Y</th>\n",
       "      <th>Distancia</th>\n",
       "    </tr>\n",
       "  </thead>\n",
       "  <tbody>\n",
       "    <tr>\n",
       "      <th>0</th>\n",
       "      <td>0</td>\n",
       "      <td>1</td>\n",
       "      <td>Agüimes</td>\n",
       "      <td>29431.0</td>\n",
       "      <td>35002</td>\n",
       "      <td>Agüimes</td>\n",
       "      <td>35</td>\n",
       "      <td>Las Palmas</td>\n",
       "      <td>-15.446012</td>\n",
       "      <td>27.900542</td>\n",
       "      <td>6926.706323</td>\n",
       "    </tr>\n",
       "    <tr>\n",
       "      <th>1</th>\n",
       "      <td>1</td>\n",
       "      <td>2</td>\n",
       "      <td>Antigua</td>\n",
       "      <td>10458.0</td>\n",
       "      <td>35003</td>\n",
       "      <td>Antigua</td>\n",
       "      <td>35</td>\n",
       "      <td>Las Palmas</td>\n",
       "      <td>-14.013301</td>\n",
       "      <td>28.418966</td>\n",
       "      <td>6816.938055</td>\n",
       "    </tr>\n",
       "    <tr>\n",
       "      <th>2</th>\n",
       "      <td>2</td>\n",
       "      <td>3</td>\n",
       "      <td>Arrecife</td>\n",
       "      <td>58156.0</td>\n",
       "      <td>35004</td>\n",
       "      <td>Arrecife</td>\n",
       "      <td>35</td>\n",
       "      <td>Las Palmas</td>\n",
       "      <td>-13.551451</td>\n",
       "      <td>28.960649</td>\n",
       "      <td>6798.133064</td>\n",
       "    </tr>\n",
       "    <tr>\n",
       "      <th>3</th>\n",
       "      <td>3</td>\n",
       "      <td>4</td>\n",
       "      <td>Arucas</td>\n",
       "      <td>36745.0</td>\n",
       "      <td>35006</td>\n",
       "      <td>Arucas</td>\n",
       "      <td>35</td>\n",
       "      <td>Las Palmas</td>\n",
       "      <td>-15.521512</td>\n",
       "      <td>28.117496</td>\n",
       "      <td>6942.253026</td>\n",
       "    </tr>\n",
       "    <tr>\n",
       "      <th>4</th>\n",
       "      <td>4</td>\n",
       "      <td>5</td>\n",
       "      <td>Gáldar</td>\n",
       "      <td>24473.0</td>\n",
       "      <td>35009</td>\n",
       "      <td>Gáldar</td>\n",
       "      <td>35</td>\n",
       "      <td>Las Palmas</td>\n",
       "      <td>-15.654111</td>\n",
       "      <td>28.143873</td>\n",
       "      <td>6955.462707</td>\n",
       "    </tr>\n",
       "  </tbody>\n",
       "</table>\n",
       "</div>"
      ],
      "text/plain": [
       "   FID  OBJECTID     Texto  Poblacion  CodMun Municipio  CodProvin  \\\n",
       "0    0         1   Agüimes    29431.0   35002   Agüimes         35   \n",
       "1    1         2   Antigua    10458.0   35003   Antigua         35   \n",
       "2    2         3  Arrecife    58156.0   35004  Arrecife         35   \n",
       "3    3         4    Arucas    36745.0   35006    Arucas         35   \n",
       "4    4         5    Gáldar    24473.0   35009    Gáldar         35   \n",
       "\n",
       "    Provincia          X          Y    Distancia  \n",
       "0  Las Palmas -15.446012  27.900542  6926.706323  \n",
       "1  Las Palmas -14.013301  28.418966  6816.938055  \n",
       "2  Las Palmas -13.551451  28.960649  6798.133064  \n",
       "3  Las Palmas -15.521512  28.117496  6942.253026  \n",
       "4  Las Palmas -15.654111  28.143873  6955.462707  "
      ]
     },
     "execution_count": 240,
     "metadata": {},
     "output_type": "execute_result"
    }
   ],
   "source": [
    "dataset_temp = dataset.drop(dataset[(dataset['Y'] == latitud_madrid) & (dataset['X'] == longitud_madrid)].index)\n",
    "\n",
    "dataset_temp['Distancia'] = dataset_temp.apply(lambda row: geodesic((latitud_madrid, longitud_madrid), (row['Y'], row['X'])).kilometers, axis=1)\n",
    "\n",
    "dataset_temp.head()"
   ]
  },
  {
   "cell_type": "code",
   "execution_count": 241,
   "id": "d3f0b69c-b069-42f9-ad1d-3153003e6b7d",
   "metadata": {
    "tags": []
   },
   "outputs": [
    {
     "name": "stdout",
     "output_type": "stream",
     "text": [
      "El municipio más cercano a Madrid es: Maó\n",
      "El municipio más lejano a Madrid es: Los Llanos de Aridane\n"
     ]
    }
   ],
   "source": [
    "municipio_mas_cercano = dataset_temp.loc[dataset_temp['Distancia'].idxmin(), 'Municipio']\n",
    "municipio_mas_lejano = dataset_temp.loc[dataset_temp['Distancia'].idxmax(), 'Municipio']\n",
    "\n",
    "print(\"El municipio más cercano a Madrid es:\", municipio_mas_cercano)\n",
    "print(\"El municipio más lejano a Madrid es:\", municipio_mas_lejano)"
   ]
  }
 ],
 "metadata": {
  "kernelspec": {
   "display_name": "Python 3 (ipykernel)",
   "language": "python",
   "name": "python3"
  },
  "language_info": {
   "codemirror_mode": {
    "name": "ipython",
    "version": 3
   },
   "file_extension": ".py",
   "mimetype": "text/x-python",
   "name": "python",
   "nbconvert_exporter": "python",
   "pygments_lexer": "ipython3",
   "version": "3.11.5"
  }
 },
 "nbformat": 4,
 "nbformat_minor": 5
}
